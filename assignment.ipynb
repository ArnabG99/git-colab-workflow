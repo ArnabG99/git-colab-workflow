{
  "nbformat": 4,
  "nbformat_minor": 0,
  "metadata": {
    "colab": {
      "name": "Untitled0.ipynb",
      "version": "0.3.2",
      "provenance": [],
      "collapsed_sections": [],
      "include_colab_link": true
    },
    "kernelspec": {
      "name": "python3",
      "display_name": "Python 3"
    }
  },
  "cells": [
    {
      "cell_type": "markdown",
      "metadata": {
        "id": "view-in-github",
        "colab_type": "text"
      },
      "source": [
        "[View in Colaboratory](https://colab.research.google.com/github/ArnabG99/git-colab-workflow/blob/ArnabG99/assignment.ipynb)"
      ]
    },
    {
      "metadata": {
        "id": "1GO802fa7lFl",
        "colab_type": "code",
        "colab": {
          "base_uri": "https://localhost:8080/",
          "height": 187
        },
        "outputId": "239094aa-2023-4f8a-da5d-003220dbcd66"
      },
      "cell_type": "code",
      "source": [
        "for i in range(10):\n",
        "  print(\"Hellow World\")"
      ],
      "execution_count": 0,
      "outputs": [
        {
          "output_type": "stream",
          "text": [
            "Hellow World\n",
            "Hellow World\n",
            "Hellow World\n",
            "Hellow World\n",
            "Hellow World\n",
            "Hellow World\n",
            "Hellow World\n",
            "Hellow World\n",
            "Hellow World\n",
            "Hellow World\n"
          ],
          "name": "stdout"
        }
      ]
    }
  ]
}